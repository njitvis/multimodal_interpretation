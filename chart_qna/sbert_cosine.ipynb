{
 "cells": [
  {
   "cell_type": "markdown",
   "metadata": {},
   "source": [
    "## Initialize the Libaries"
   ]
  },
  {
   "cell_type": "code",
   "execution_count": null,
   "metadata": {},
   "outputs": [],
   "source": [
    "# !pip install -U sentence-transformers"
   ]
  },
  {
   "cell_type": "code",
   "execution_count": null,
   "metadata": {},
   "outputs": [],
   "source": [
    "import pandas as pd\n",
    "from scipy.spatial.distance import cosine\n",
    "from sentence_transformers import SentenceTransformer"
   ]
  },
  {
   "cell_type": "markdown",
   "metadata": {},
   "source": [
    "## Calculating Similarity Between Answers With and Without Caption"
   ]
  },
  {
   "cell_type": "code",
   "execution_count": null,
   "metadata": {},
   "outputs": [],
   "source": [
    "# Load the CSV file\n",
    "file_path = \"../data/qa_200_singleview.csv\"  # Update this with your local file path\n",
    "data = pd.read_csv(file_path)\n",
    "\n",
    "# Initialize the SentenceTransformer model\n",
    "model = SentenceTransformer('all-MiniLM-L6-v2')  # You can replace with your preferred model\n",
    "\n",
    "# Function to calculate cosine similarity\n",
    "def calculate_similarity(no_caption, with_caption, model):\n",
    "  no_caption = str(no_caption) if pd.notna(no_caption) else \"\"\n",
    "  with_caption = str(with_caption) if pd.notna(with_caption) else \"\"\n",
    "  if not no_caption or not with_caption:\n",
    "      return 0.0\n",
    "      \n",
    "  no_cap_vec = model.encode([no_caption])[0]\n",
    "  with_cap_vec = model.encode([with_caption])[0]\n",
    "  similarity_score = 1 - cosine(no_cap_vec, with_cap_vec)\n",
    "  return round(similarity_score, 5)  # Round to 5 decimal places\n",
    "\n",
    "# Dynamically calculate similarities for each A# and AwC# pair\n",
    "for i in range(1, 11):  # Assuming pairs go from A1 to AwC10\n",
    "    a_col = f\"A{i}\"       # Column name for A#\n",
    "    awc_col = f\"AwC{i}\"   # Column name for AwC#\n",
    "    sim_col = f\"Sim_A{i}\" # Column name for similarity score\n",
    "\n",
    "    # Check if both columns exist in the DataFrame\n",
    "    if a_col in data.columns and awc_col in data.columns:\n",
    "        data[sim_col] = data.apply(\n",
    "            lambda row: calculate_similarity(row[a_col], row[awc_col], model), axis=1\n",
    "        )\n",
    "    else:\n",
    "        print(f\"Columns {a_col} or {awc_col} not found in the DataFrame.\")\n",
    "\n",
    "# Save the updated DataFrame to a new file\n",
    "data.to_csv(\"../data/qa_200_singleview.csv\", index=False)\n",
    "data.head()"
   ]
  }
 ],
 "metadata": {
  "kernelspec": {
   "display_name": "Python 3",
   "language": "python",
   "name": "python3"
  },
  "language_info": {
   "name": "python",
   "version": "3.11.11"
  }
 },
 "nbformat": 4,
 "nbformat_minor": 2
}
